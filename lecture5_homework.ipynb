{
  "nbformat": 4,
  "nbformat_minor": 0,
  "metadata": {
    "colab": {
      "name": "lecture5_homework.ipynb",
      "provenance": [],
      "authorship_tag": "ABX9TyOEL4DU8B316pyNy6MYzKZf",
      "include_colab_link": true
    },
    "kernelspec": {
      "name": "python3",
      "display_name": "Python 3"
    },
    "language_info": {
      "name": "python"
    }
  },
  "cells": [
    {
      "cell_type": "markdown",
      "metadata": {
        "id": "view-in-github",
        "colab_type": "text"
      },
      "source": [
        "<a href=\"https://colab.research.google.com/github/lecture-series-2021/lecture5/blob/main/lecture5_homework.ipynb\" target=\"_parent\"><img src=\"https://colab.research.google.com/assets/colab-badge.svg\" alt=\"Open In Colab\"/></a>"
      ]
    },
    {
      "cell_type": "markdown",
      "metadata": {
        "id": "kbtia1l7_CU5"
      },
      "source": [
        "# Lecture 5: Machine Learning\n",
        "- In this homework we will implement a neural network to learn to classify the type of iris plant from attributes of its flower, using the [UCI Iris dataset](https://archive.ics.uci.edu/ml/datasets/iris).\n",
        "- Code written by Rakshit Kothari, originally from https://github.com/RSKothari/Learn-Backprop.\n"
      ]
    },
    {
      "cell_type": "markdown",
      "metadata": {
        "id": "Bw-Fa74-AAdg"
      },
      "source": [
        "# Setup"
      ]
    },
    {
      "cell_type": "code",
      "metadata": {
        "id": "HZ43CdfsCXqk"
      },
      "source": [
        "%matplotlib inline\n",
        "import matplotlib.pyplot as plt\n",
        "\n",
        "import abc\n",
        "import numpy as np\n",
        "from sklearn.metrics import confusion_matrix\n",
        "from sklearn.datasets import load_iris\n",
        "\n",
        "# convenience functions\n",
        "def sigmoid_(x):\n",
        "  return 1/(1 + np.exp(-x))\n",
        "\n",
        "def softmax_(x):\n",
        "  return np.exp(x)/np.sum(np.exp(x))"
      ],
      "execution_count": 1,
      "outputs": []
    },
    {
      "cell_type": "markdown",
      "metadata": {
        "id": "A54b1DroBvP-"
      },
      "source": [
        "Class that defines our neural network model.\n",
        "Useful resources:\n",
        "- https://www.ics.uci.edu/~pjsadows/notes.pdf\n",
        "- https://www.jasonosajima.com/backprop\n",
        "- https://www.gatsby.ucl.ac.uk/teaching/courses/sntn/sntn-2017/resources/Matrix_derivatives_cribsheet.pdf"
      ]
    },
    {
      "cell_type": "markdown",
      "metadata": {
        "id": "k68N7zIC8F5D"
      },
      "source": [
        "[Abstract base class](https://pymotw.com/3/abc/) for a neural network (NN).\n",
        "NN layers and even other NNs can derive from this class. They will have \n",
        "to re-implement the functions marked `@abc.abstractmethod`.\n",
        "\n",
        "We will use the following terminology:\n",
        "- `x`: input to a layer or the entire NN\n",
        "- `y`: output of a layer or the entire NN\n",
        "- `p`: learnable parameters in the layer or the entire NN\n",
        "- `grad`: gradient of loss function w.r.t. `x`\n",
        "- `update`: gradient of loss function w.r.t. `p`"
      ]
    },
    {
      "cell_type": "code",
      "metadata": {
        "id": "CsZJhLNjDYuE"
      },
      "source": [
        "class Module(metaclass=abc.ABCMeta):\n",
        "  # Question: What is the purpose of this class?\n",
        "  def __init__(self):\n",
        "    # False indicates this NN is in training mode i.e. inputs will be stored for update computation later\n",
        "    # True indicates this NN is in evaluation mode\n",
        "    self.eval = True\n",
        "    self.params = []  # by default, a module will have no learnable parameters\n",
        "    self.g_params = []  # gradient of loss function w.r.t. self.params\n",
        "    self.inputs = []  # inputs stored for update computation later\n",
        "    self.g_inputs = []  # gradient of loss function w.r.t. input\n",
        "\n",
        "  @abc.abstractmethod\n",
        "  def forward(self, x):\n",
        "    \"\"\"\n",
        "    NN forward pass i.e. compute output y from input x.\n",
        "    Also stores x in self.inputs, because it will be used in self.backward()\n",
        "    \"\"\"\n",
        "\n",
        "  @abc.abstractmethod\n",
        "  def backward(self, g_outputs):\n",
        "    \"\"\"\n",
        "    NN backward pass. This function calculates:\n",
        "    - gradient of loss function w.r.t. its inputs self.inputs and stores it in self.g_inputs\n",
        "    - gradient of loss function w.r.t. its learnable parameters self.params and stores it in self.g_params\n",
        "    Inputs:\n",
        "    - g_outputs: gradient of loss function w.r.t. its output. This comes from the next layer\n",
        "    (recall the computation graph and chain rule explained in class)\n",
        "    Returns: None\n",
        "    \"\"\"\n",
        "    # If you are confused about backprop derivation,\n",
        "    # please consider going over this article:\n",
        "    # https://www.jasonosajima.com/backprop\n",
        "  \n",
        "  @abc.abstractmethod\n",
        "  def grad_fn(self, x):\n",
        "    \"\"\"\n",
        "    gradient of output w.r.t. input, for a single input\n",
        "    recall chain equation dL_din = dL_dout * dout_din\n",
        "    This function calculates dout_din\n",
        "    \"\"\"\n",
        "\n",
        "  def zero_grad(self):\n",
        "    \"\"\"\n",
        "    This function resets the NN i.e. clears out the stored inputs and gradients\n",
        "    \"\"\"\n",
        "    self.inputs = []\n",
        "    self.g_inputs = []"
      ],
      "execution_count": 2,
      "outputs": []
    },
    {
      "cell_type": "code",
      "metadata": {
        "id": "ABv0KG98BAuO"
      },
      "source": [
        "class ANN(Module):\n",
        "    # Question: Why do we derive ANN from Module?\n",
        "    def __init__(self, ):\n",
        "      super(ANN, self).__init__()\n",
        "      # Question: What does the \"super\" do?\n",
        "      self.operations = []\n",
        "\n",
        "    def forward(self, x):\n",
        "      \"\"\"\n",
        "      Forward neural network operation. The network stores all inputs that passed\n",
        "      through a layer. These inputs are used to compute the gradient and can be\n",
        "      freed using the zero_grad() function\n",
        "      \"\"\"\n",
        "      # Question: What does the attribute \"operations\" hold?\n",
        "      for operation in self.operations:\n",
        "        x = operation.forward(x)\n",
        "      return x\n",
        "\n",
        "    def backward(self, g_outputs):\n",
        "      \"\"\"\n",
        "      Computes the gradient for each input saved in the layer and all learnable parameters\n",
        "      \"\"\"\n",
        "      # Iterate through every operation in the network.\n",
        "      # Question: What does \"idx\" and \"operation\" hold?\n",
        "      # What is the importance of the \"enumerate\" function?\n",
        "      # set_trace()\n",
        "      for idx, operation in enumerate(reversed(self.operations)):\n",
        "        # Find the gradient of  \"operation\"\n",
        "        operation.backward(g_outputs)\n",
        "        for idx, g_input in enumerate(operation.g_inputs):\n",
        "          if operation.type == 'act_func':\n",
        "            g_outputs[idx] = g_outputs[idx] * g_input\n",
        "          else:\n",
        "            g_outputs[idx] = g_input.T.dot(g_outputs[idx])\n",
        "\n",
        "        # Question: What is the difference between doing mat_A*mat_B and\n",
        "        # mat_A.dot(mat_B)? Here, mat_A and mat_B are two matrices.\n",
        "\n",
        "    def grad_fn(self, x):\n",
        "      \"\"\"\n",
        "      We don't need dout_din for the whole ANN\n",
        "      \"\"\"\n",
        "      return None\n",
        "    \n",
        "    def zero_grad(self):\n",
        "      \"\"\"\n",
        "      A function which frees up gradients and saved input arrays\n",
        "      \"\"\"\n",
        "      for operation in self.operations:\n",
        "        operation.zero_grad()"
      ],
      "execution_count": 11,
      "outputs": []
    },
    {
      "cell_type": "markdown",
      "metadata": {
        "id": "d6EhugWFCn4X"
      },
      "source": [
        "# Homework 1\n",
        "Class that implements gradient descent"
      ]
    },
    {
      "cell_type": "code",
      "metadata": {
        "id": "izwlF-9O-pyl"
      },
      "source": [
        "class SGD():\n",
        "  \"\"\"\n",
        "  Gradient Descent class\n",
        "  (becomes stochastic when you pass minibatches to it instead of the entire dataset)\n",
        "  \"\"\"\n",
        "  def __init__(self, lr=1e-3):\n",
        "    # learning rate\n",
        "    self.lr = lr\n",
        "\n",
        "  def __call__(self, model):\n",
        "    \"\"\"\n",
        "    model: ANN object\n",
        "    \"\"\"\n",
        "    # iterate through operations in the computation graph\n",
        "    for op in model.operations:\n",
        "      # ignore a node if it is in eval mode\n",
        "      if not op.eval:\n",
        "        # apply the gradient descent update\n",
        "        for idx, dL_dP in enumerate(op.g_params):\n",
        "          # op.updates[idx] contains the gradient dL_dP of loss w.r.t.\n",
        "          # parameters op.p[idx]\n",
        "          # write the gradient descent code for updating op.p[idx] using\n",
        "          # dL_dP and self.lr\n",
        "          # op.params[idx] = "
      ],
      "execution_count": 4,
      "outputs": []
    },
    {
      "cell_type": "markdown",
      "metadata": {
        "id": "gP1pQgI6sQLI"
      },
      "source": [
        "## Solution\n",
        "Click the black arrow to the left of \"Solution\" to peek at the answer."
      ]
    },
    {
      "cell_type": "markdown",
      "metadata": {
        "id": "GqyffYYMsq4g"
      },
      "source": [
        "`op.p[idx] = op.p[idx] - self.lr*dL_dP`"
      ]
    },
    {
      "cell_type": "markdown",
      "metadata": {
        "id": "eORLDNRHs2bM"
      },
      "source": [
        "# Homework 2\n",
        "Class that implements a [Linear](https://pytorch.org/docs/stable/generated/torch.nn.Linear.html) operation `y = Ax + b`.\n",
        "\n",
        "`y`, `x`, and `b` are vectors of the same size, `A` is a matrix."
      ]
    },
    {
      "cell_type": "code",
      "metadata": {
        "id": "x0AUtr1TDJ8Z"
      },
      "source": [
        "class linear(Module):\n",
        "  def __init__(self, in_c, out_c, bias=True):\n",
        "    \"\"\"\n",
        "    Inputs:\n",
        "    - in_c: size of input vector\n",
        "    - out_c: size of output vector\n",
        "    \"\"\"\n",
        "    # Question: What does the __init__ function do?\n",
        "    super(linear, self).__init__()\n",
        "    self.type = 'linear'\n",
        "    self.eval = False\n",
        "    # learnable parameters of the Linear layer\n",
        "    self.params = [np.random.rand(out_c, in_c),  # Weight matrix A\n",
        "                   np.random.rand(out_c, 1)]     # Bias vector b\n",
        "\n",
        "  def forward(self, x):\n",
        "    '''\n",
        "    Inputs:\n",
        "    - x: Input feature vector of shape [in_c, 1]\n",
        "    Outputs:\n",
        "    - y: Output feature vector y = Ax + b of shape [out_c, 1]\n",
        "    '''\n",
        "    self.inputs.append(x)\n",
        "    # y = # write your code to derive y from x and self.p\n",
        "    return y\n",
        "\n",
        "  def grad_fn(self, x):\n",
        "    \"\"\"\n",
        "    gradient of output y w.r.t. input x\n",
        "    \"\"\"\n",
        "    # dout_din = # write your code here\n",
        "    return dout_din\n",
        "\n",
        "  def backward(self, g_outputs):\n",
        "    A_grads, b_grads = [], []\n",
        "\n",
        "    # Since we pass every sample separately, we must compute the gradient\n",
        "    # for each samples separately. Loop over the stored inputs.\n",
        "    for idx, inp in enumerate(self.inputs):\n",
        "      self.g_inputs.append(self.grad_fn(inp))\n",
        "\n",
        "      # write your code for gradient of loss w.r.t. A\n",
        "      # A_grad = \n",
        "      A_grads.append(A_grad)\n",
        "\n",
        "      # write your code for gradient of loss w.r.t. b\n",
        "      # b_grad = \n",
        "      b_grads.append(b_grad)\n",
        "\n",
        "    # Add weight gradient across all samples\n",
        "    A_grad = np.sum(np.stack(A_grads, axis=0), axis=0)\n",
        "    assert A_grad.shape == self.params[0].shape, 'A grad shape does not match'\n",
        "\n",
        "    # Average bias gradient across all samples\n",
        "    b_grad = np.mean(np.stack(b_grads, axis=0), axis=0)\n",
        "    assert b_grad.shape == self.params[1].shape, 'b grad shape does not match'\n",
        "\n",
        "    self.g_params = [A_grad, b_grad]"
      ],
      "execution_count": 5,
      "outputs": []
    },
    {
      "cell_type": "markdown",
      "metadata": {
        "id": "QtVUhNT5t0f-"
      },
      "source": [
        "## Solution\n",
        "Click the black arrow to the left of \"Solution\" to peek at the answer"
      ]
    },
    {
      "cell_type": "markdown",
      "metadata": {
        "id": "JbWN0Wupt52Z"
      },
      "source": [
        "- `forward()`: `y = self.params[0].dot(x) + self.params[1]`\n",
        "- `grad_fn()`: `dout_din = self.params[0]`\n",
        "- `backward()`: `A_grad = g_outputs[idx].dot(inp.T)`, `b_grad = g_outputs[idx]`"
      ]
    },
    {
      "cell_type": "markdown",
      "metadata": {
        "id": "zcJ7iCnl4Xtr"
      },
      "source": [
        "# Homework 3\n",
        "Class that implements a [Sigmoid](https://pytorch.org/docs/stable/generated/torch.nn.Sigmoid.html?highlight=sigmoid#torch.nn.Sigmoid) operation. This operation does not have any learnable parameters. It is often used to convert a vector from an arbitrary range to a `[-1, 1]` range i.e. each element of the output vector will be in `[-1, 1]`."
      ]
    },
    {
      "cell_type": "code",
      "metadata": {
        "id": "h_E5DG8bDk1s"
      },
      "source": [
        "class sigmoid(Module):\n",
        "  def __init__(self, ):\n",
        "    super(sigmoid, self).__init__()\n",
        "    self.type = 'act_func'\n",
        "\n",
        "  def forward(self, x):\n",
        "    self.inputs.append(x)\n",
        "    # write your code here for deriving output from input\n",
        "    # y = \n",
        "    return y\n",
        "\n",
        "  def grad_fn(self, x):\n",
        "    # Question: Find the derivative of sigmoid\n",
        "    # dout_din = \n",
        "    return dout_din\n",
        "\n",
        "  def backward(self, prev_grad):\n",
        "    self.g_inputs = [self.grad_fn(inp) for inp in self.inputs]"
      ],
      "execution_count": 6,
      "outputs": []
    },
    {
      "cell_type": "markdown",
      "metadata": {
        "id": "nFjjjxrf48-J"
      },
      "source": [
        "## Solution\n",
        "Click the black arrow to the left of \"Solution\" to peek at the answer."
      ]
    },
    {
      "cell_type": "markdown",
      "metadata": {
        "id": "yX0gpCAx5ECc"
      },
      "source": [
        "- `forward()`: `y = sigmoid_(x)`\n",
        "- `grad_func()`: `dout_din = sigmoid_(x) * sigmoid_(1.0 - x)`\n"
      ]
    },
    {
      "cell_type": "markdown",
      "metadata": {
        "id": "DV8nbcChB50o"
      },
      "source": [
        "# Homework 4\n",
        "Class the implements [MSE Loss](https://pytorch.org/docs/stable/generated/torch.nn.MSELoss.html) operation."
      ]
    },
    {
      "cell_type": "code",
      "metadata": {
        "id": "NC6WNDj6DibG"
      },
      "source": [
        "class MSE_loss():\n",
        "  def __init__(self):\n",
        "    self.type = 'loss_func'\n",
        "\n",
        "  def forward(self, y_pred, y_gt):\n",
        "    \"\"\"\n",
        "    Inputs (both same shape):\n",
        "    - y_pred: prediction vector\n",
        "    - y_gt: ground truth vector\n",
        "    Returns\n",
        "    Loss value (scalar)\n",
        "    \"\"\"\n",
        "    # write your code here for MSE loss\n",
        "    # loss = \n",
        "    return loss\n",
        "\n",
        "  def grad_fn(self, y_pred, y_gt):\n",
        "    \"\"\"\n",
        "    Gradient of loss w.r.t. y_pred\n",
        "    \"\"\"\n",
        "    # Question: Find the gradient of MSE loss w.r.t. y_pred\n",
        "    # dout_din = \n",
        "    return dout_din\n",
        "\n",
        "  def __call__(self, y_pred, y_gt):\n",
        "    # Question: What does __call__ do?\n",
        "    return self.forward(y_pred, y_gt), self.grad_fn(y_pred, y_gt)"
      ],
      "execution_count": 7,
      "outputs": []
    },
    {
      "cell_type": "markdown",
      "metadata": {
        "id": "UyOXBZFrCLZP"
      },
      "source": [
        "## Solution\n",
        "Click the black arrow to the left of \"Solution\" to peek at the answer."
      ]
    },
    {
      "cell_type": "markdown",
      "metadata": {
        "id": "EhgMzg4ODVOz"
      },
      "source": [
        "- `forward()`: `loss = 0.5*np.mean(np.power(y_pred - y_gt, 2))`\n",
        "- `grad_fn()`: `dout_din = y_pred - y_gt`"
      ]
    },
    {
      "cell_type": "markdown",
      "metadata": {
        "id": "YkmkgqUeCNbK"
      },
      "source": [
        "# Homework 5\n",
        "Class the implements the [Cross entropy loss](https://pytorch.org/docs/stable/generated/torch.nn.CrossEntropyLoss.html) operation."
      ]
    },
    {
      "cell_type": "code",
      "metadata": {
        "id": "ogMpIQncDfLW"
      },
      "source": [
        "class CrossEntropyLoss():\n",
        "  def __init__(self, n_classes):\n",
        "    \"\"\"\n",
        "    Inputs:\n",
        "    - n_classes = Total number of classes\n",
        "    \"\"\"\n",
        "    self.type = 'loss_func'\n",
        "    self.n_classes = n_classes\n",
        "\n",
        "  def forward(self, y_pred, y_gt):\n",
        "    \"\"\"\n",
        "    Inputs:\n",
        "    - y_pred: vector of prediction \"logits\", shape [self.n_classes, 1]\n",
        "    - y_gt: ground truth class label, scalar int in [0, self.n_classes]\n",
        "    Returns:\n",
        "    - scalar loss value\n",
        "    \"\"\"\n",
        "    # write your code for cross entropy loss\n",
        "    # loss = \n",
        "    return loss\n",
        "\n",
        "  def grad_fn(self, y_pred, y_gt):\n",
        "    \"\"\"\n",
        "    Inputs:\n",
        "    - y_pred: vector of prediction \"logits\", shape [self.n_classes, 1]\n",
        "    - y_gt: ground truth class label, scalar int in [0, self.n_classes]\n",
        "    Returns:\n",
        "    - dout_din: Gradient of loss w.r.t. y_pred, vector of shape [self.n_classes, 1]\n",
        "    \"\"\"\n",
        "    # write your code for gradient of loss w.r.t. y_pred\n",
        "    # dout_din = \n",
        "    return dout_din\n",
        "\n",
        "  def __call__(self, y_pred, y_gt):\n",
        "    return self.forward(y_pred, y_gt), self.grad_fn(y_pred, y_gt)"
      ],
      "execution_count": 12,
      "outputs": []
    },
    {
      "cell_type": "markdown",
      "metadata": {
        "id": "cEJ6gSpMCWE4"
      },
      "source": [
        "## Solution\n",
        "Click the black arrow to the left of \"Solution\" to peek at the answer."
      ]
    },
    {
      "cell_type": "markdown",
      "metadata": {
        "id": "sqyJdGUGGikM"
      },
      "source": [
        "- `forward()`: `loss = -np.log(softmax_(y_pred))[y_gt]`\n",
        "- `grad_fn()`: `dout_din = softmax_(y_pred) - 1*(np.arange(self.n_classes)==y_gt)[:, np.newaxis]`"
      ]
    },
    {
      "cell_type": "markdown",
      "metadata": {
        "id": "Cvz4VU84D_O9"
      },
      "source": [
        "# Training\n",
        "You just have to run this cell. If your answers above were correct, you should get > 97% accuracy.\n",
        "You can also try changing the various hyperparameters -- size of linear layer, learning rate, initialization strategy, etc. to improve beyond that."
      ]
    },
    {
      "cell_type": "code",
      "metadata": {
        "id": "P5KeBppoEBaM",
        "colab": {
          "base_uri": "https://localhost:8080/",
          "height": 435
        },
        "outputId": "c37c15c8-57ea-429c-f1ec-2f85572c9575"
      },
      "source": [
        "lr = 1e-3\n",
        "steps = 1000\n",
        "\n",
        "iris_data = load_iris()\n",
        "feats = iris_data['data']\n",
        "gt = iris_data['target']\n",
        "\n",
        "num_samples = feats.shape[0]\n",
        "num_classes = gt.max() + 1\n",
        "\n",
        "net = ANN()\n",
        "\n",
        "net.operations = [linear(in_c=4, out_c=64),\n",
        "                  sigmoid(),\n",
        "                  linear(in_c=64, out_c=num_classes)]\n",
        "\n",
        "loss_func = CrossEntropyLoss(num_classes)\n",
        "\n",
        "optimize = SGD(lr=lr)\n",
        "\n",
        "samples = np.split(feats, num_samples, axis=0)\n",
        "targets = np.split(gt, num_samples, axis=0)\n",
        "predict = np.random.choice(num_classes, size=num_samples)  # start with random predictions\n",
        "losses = []\n",
        "\n",
        "for step in range(steps):\n",
        "  if (step > 0) and (step % 100 == 0):\n",
        "    print(f'Step {step+1}/{steps}, Loss = {np.mean(losses):.4f}, Accuracy = {100.0*np.mean(predict==gt):.2f}%')\n",
        "  loss_per_epoch = 0\n",
        "  g_losses = []\n",
        "  \n",
        "  for idx, sample in enumerate(samples):\n",
        "    out = net.forward(sample.T)  # Read note above\n",
        "    loss, g_loss = loss_func(out, targets[idx])\n",
        "    g_losses.append(g_loss)\n",
        "    loss_per_epoch += loss.squeeze()\n",
        "    predict[idx] = np.argmax(out)\n",
        "\n",
        "  loss_per_epoch = loss_per_epoch/len(samples)\n",
        "  losses.append(loss_per_epoch)\n",
        "  # print(f'Loss = {loss_per_epoch:.3f}')\n",
        "  # Generate gradients to update weights ...\n",
        "  net.backward(g_losses)\n",
        "  # Gradients have been generated, time to update weights!\n",
        "  optimize(net)\n",
        "  net.zero_grad()\n",
        "\n",
        "c_mat = confusion_matrix(gt, predict)\n",
        "c_mat = c_mat.astype('float') / c_mat.sum(axis=1)[:, np.newaxis]\n",
        "plt.plot(losses)"
      ],
      "execution_count": 25,
      "outputs": [
        {
          "output_type": "stream",
          "text": [
            "Step 101/1000, Loss = 1.2256, Accuracy = 66.67%\n",
            "Step 201/1000, Loss = 1.0937, Accuracy = 66.67%\n",
            "Step 301/1000, Loss = 1.0253, Accuracy = 66.67%\n",
            "Step 401/1000, Loss = 0.9672, Accuracy = 67.33%\n",
            "Step 501/1000, Loss = 0.8844, Accuracy = 88.67%\n",
            "Step 601/1000, Loss = 0.7608, Accuracy = 97.33%\n",
            "Step 701/1000, Loss = 0.6691, Accuracy = 97.33%\n",
            "Step 801/1000, Loss = 0.5988, Accuracy = 97.33%\n",
            "Step 901/1000, Loss = 0.5433, Accuracy = 97.33%\n"
          ],
          "name": "stdout"
        },
        {
          "output_type": "execute_result",
          "data": {
            "text/plain": [
              "[<matplotlib.lines.Line2D at 0x7f1cacf366d0>]"
            ]
          },
          "metadata": {
            "tags": []
          },
          "execution_count": 25
        },
        {
          "output_type": "display_data",
          "data": {
            "image/png": "[encoded data removed]",
            "text/plain": [
              "<Figure size 432x288 with 1 Axes>"
            ]
          },
          "metadata": {
            "tags": [],
            "needs_background": "light"
          }
        }
      ]
    },
    {
      "cell_type": "code",
      "metadata": {
        "colab": {
          "base_uri": "https://localhost:8080/",
          "height": 286
        },
        "id": "0F3BsTyBE_4V",
        "outputId": "3159ebdd-1455-4c00-d4dd-9faf0313ae11"
      },
      "source": [
        "plt.imshow(c_mat)"
      ],
      "execution_count": 26,
      "outputs": [
        {
          "output_type": "execute_result",
          "data": {
            "text/plain": [
              "<matplotlib.image.AxesImage at 0x7f1caceefed0>"
            ]
          },
          "metadata": {
            "tags": []
          },
          "execution_count": 26
        },
        {
          "output_type": "display_data",
          "data": {
            "image/png": "[encoded data removed]",
            "text/plain": [
              "<Figure size 432x288 with 1 Axes>"
            ]
          },
          "metadata": {
            "tags": [],
            "needs_background": "light"
          }
        }
      ]
    }
  ]
}